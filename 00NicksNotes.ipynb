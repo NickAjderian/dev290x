{
  "cells": [
    {
      "metadata": {
        "collapsed": true
      },
      "cell_type": "markdown",
      "source": "Images - 3 colors. WHY NOT ADD direction, speed, rate of change of color?\nLibraries:\n* Matplotlib\n* PIL (Pillow)\n* OpenCV\n* Scikit-Image https://scikit-image.org/\n\nSee Exercise 01. Also, you have to install\nbut library compatibility prob\n(https://trainingsupport.microsoft.com/en-us/tcmpd/forum/all/mod-1-ex-1-attributeerror-module-matplotlibcbook/cf669319-310e-46ce-bf46-b1647a523e47 )\nso downgrade matplotlib\n!pip install 'matplotlib==2.2.3'\n\nEdge detection\nG = gradient of pixels in x and y\nG=(Gx**2 + Gy**2)**.5\na=arctan(Gx/Gy)\n...normally from a greyscale image, why not color? just do it 3 times\n\n"
    }
  ],
  "metadata": {
    "kernelspec": {
      "name": "python36",
      "display_name": "Python 3.6",
      "language": "python"
    },
    "language_info": {
      "mimetype": "text/x-python",
      "nbconvert_exporter": "python",
      "name": "python",
      "pygments_lexer": "ipython3",
      "version": "3.6.6",
      "file_extension": ".py",
      "codemirror_mode": {
        "version": 3,
        "name": "ipython"
      }
    }
  },
  "nbformat": 4,
  "nbformat_minor": 2
}